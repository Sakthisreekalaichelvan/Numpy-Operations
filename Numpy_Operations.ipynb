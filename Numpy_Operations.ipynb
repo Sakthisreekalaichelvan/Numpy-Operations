{
  "nbformat": 4,
  "nbformat_minor": 0,
  "metadata": {
    "colab": {
      "provenance": [],
      "gpuType": "T4"
    },
    "kernelspec": {
      "name": "python3",
      "display_name": "Python 3"
    },
    "language_info": {
      "name": "python"
    }
  },
  "cells": [
    {
      "cell_type": "code",
      "execution_count": null,
      "metadata": {
        "id": "ybKSy1FoxBMm"
      },
      "outputs": [],
      "source": [
        "#Numpy\n",
        "import numpy as np"
      ]
    },
    {
      "cell_type": "markdown",
      "source": [
        "List Vs Numpy-Time"
      ],
      "metadata": {
        "id": "RoMkp7B4yNlN"
      }
    },
    {
      "cell_type": "code",
      "source": [
        "from time import process_time\n",
        "pythonList=[i for i in range(10000)]\n",
        "Start_time=process_time()\n",
        "python_list=[i+5 for i in pythonList]\n",
        "end_time=process_time()\n",
        "print(end_time-Start_time)"
      ],
      "metadata": {
        "colab": {
          "base_uri": "https://localhost:8080/"
        },
        "id": "2vO1-nAaxqCp",
        "outputId": "7d3cbfef-3981-4947-8874-17baea7f72fd"
      },
      "execution_count": null,
      "outputs": [
        {
          "output_type": "stream",
          "name": "stdout",
          "text": [
            "0.0011995049999997676\n"
          ]
        }
      ]
    },
    {
      "cell_type": "code",
      "source": [
        "np_array=np.array([i for i in range(10000)])\n",
        "start_time=process_time()\n",
        "np_array+=5\n",
        "end_time=process_time()\n",
        "print(end_time-start_time)"
      ],
      "metadata": {
        "colab": {
          "base_uri": "https://localhost:8080/"
        },
        "id": "wz5_9Z5BzDtq",
        "outputId": "7baf36e5-a430-4b31-b898-717756a23813"
      },
      "execution_count": null,
      "outputs": [
        {
          "output_type": "stream",
          "name": "stdout",
          "text": [
            "0.00014548500000000075\n"
          ]
        }
      ]
    },
    {
      "cell_type": "markdown",
      "source": [
        "Data Types NUMERICAL\n",
        "\n",
        "1. int-numpy.integer\n",
        "2. float64-numpy.float64\n",
        "3. Boolean-numpy.bool\n",
        "4. Complex-numpy.complex128\n",
        "\n",
        "The above can be used with python object for dtype and the interpreter understands it.\n",
        "5. unit(unsigned Integer)\n",
        "\n",
        "STRING AND BYTES\n",
        "\n",
        "1. numpy.str_\n",
        "2. numpy.bytes_\n",
        "3. numpy.void\n",
        "\n",
        "The above are called fixed-width data types. They have a fixed width within which the single data element has to fit inside(either in unicode points and bytes)"
      ],
      "metadata": {
        "id": "UOFQIC9yibEr"
      }
    },
    {
      "cell_type": "code",
      "source": [
        "#Checking\n",
        "q=np.array([(1,2,3,4),(5,6,7,8)])\n",
        "np.issubdtype(q.dtype,np.integer)"
      ],
      "metadata": {
        "colab": {
          "base_uri": "https://localhost:8080/"
        },
        "id": "B8DSaA0ki3H3",
        "outputId": "2a909cfe-5163-46c4-e066-3401f1368f3f"
      },
      "execution_count": null,
      "outputs": [
        {
          "output_type": "execute_result",
          "data": {
            "text/plain": [
              "True"
            ]
          },
          "metadata": {},
          "execution_count": 15
        }
      ]
    },
    {
      "cell_type": "code",
      "source": [
        "q=np.array([1,2,3,4,5])\n",
        "np.issubdtype(q.dtype,np.float_)"
      ],
      "metadata": {
        "colab": {
          "base_uri": "https://localhost:8080/"
        },
        "id": "4lEK_LfSjA8s",
        "outputId": "3caabcda-8951-4ec3-fd51-3e3e7ba8ba3c"
      },
      "execution_count": null,
      "outputs": [
        {
          "output_type": "execute_result",
          "data": {
            "text/plain": [
              "False"
            ]
          },
          "metadata": {},
          "execution_count": 16
        }
      ]
    },
    {
      "cell_type": "code",
      "source": [
        "#String datatype\n",
        "t=np.array([\"Hello\",\"world\"], dtype='U6')#Maximum of 6 code points (If shorter or longer datatype is specified then it is either Zero-padded or truncated)\n",
        "print(t)\n",
        "#Bytes datatype\n",
        "u=np.array([\"Hello\",\"world\"],dtype=\"S7\").tobytes()#Missing palces are filled with \\x00\n",
        "print(u)\n",
        "#Difference between stored trailing arrays and padded arrays\n",
        "xy = [b\"hello\\0\\0\", b\"world\"]\n",
        "yx = np.array(xy, dtype=\"S7\")\n",
        "print(yx[0])\n",
        "print(xy[0]==yx[0])\n",
        "#Void DataTypes\n",
        "l=np.array(xy,dtype=\"V7\")#array([b'\\x68\\x65\\x6C\\x6C\\x6F\\x00\\x00', b'\\x77\\x6F\\x72\\x6C\\x64\\x00\\x00'],dtype='|V7')\n",
        "print(l)\n",
        "print(l[0]==np.void(xy[0]))\n",
        "\n"
      ],
      "metadata": {
        "colab": {
          "base_uri": "https://localhost:8080/"
        },
        "id": "CjIthC7FjHsT",
        "outputId": "281a3530-fe81-42c4-b7b8-bf0dcde16ae2"
      },
      "execution_count": null,
      "outputs": [
        {
          "output_type": "stream",
          "name": "stdout",
          "text": [
            "['Hello' 'world']\n",
            "b'Hello\\x00\\x00world\\x00\\x00'\n",
            "b'hello'\n",
            "False\n",
            "[b'\\x68\\x65\\x6C\\x6C\\x6F\\x00\\x00' b'\\x77\\x6F\\x72\\x6C\\x64\\x00\\x00']\n",
            "True\n"
          ]
        }
      ]
    },
    {
      "cell_type": "markdown",
      "source": [
        "Advanced DataTypes: Structured Arrays. It is similar to structs in C"
      ],
      "metadata": {
        "id": "F8O10ipesjS4"
      }
    },
    {
      "cell_type": "code",
      "source": [
        "data = np.array([('A', 10, 99.0), ('B', 15, 96.0)],\n",
        "             dtype=[('name', 'U10'), ('age', 'i4'), ('weight', 'f4')])\n",
        "print(data)\n",
        "print(data['name'])\n",
        "#If name not assigned, it creates default name as f0,f1 or f2 based on order\n",
        "print(np.dtype('3int8,float32,(2,3)float64'))\n",
        "#As Dictionary\n",
        "np.dtype({'names':['col1','col2'],\n",
        "          'formats':['i4','f4'],\n",
        "          'offsets':[0,4],\n",
        "          'itemsize':12})\n",
        "\n"
      ],
      "metadata": {
        "colab": {
          "base_uri": "https://localhost:8080/"
        },
        "id": "fwtZnR6UsiZI",
        "outputId": "5530d39a-7a1a-4cc9-974f-8fbd3bf2ebb8"
      },
      "execution_count": null,
      "outputs": [
        {
          "output_type": "stream",
          "name": "stdout",
          "text": [
            "[('A', 10, 99.) ('B', 15, 96.)]\n",
            "['A' 'B']\n",
            "[('f0', 'i1', (3,)), ('f1', '<f4'), ('f2', '<f8', (2, 3))]\n"
          ]
        },
        {
          "output_type": "execute_result",
          "data": {
            "text/plain": [
              "dtype({'names': ['col1', 'col2'], 'formats': ['<i4', '<f4'], 'offsets': [0, 4], 'itemsize': 12})"
            ]
          },
          "metadata": {},
          "execution_count": 45
        }
      ]
    },
    {
      "cell_type": "markdown",
      "source": [
        "Numpy Arrays"
      ],
      "metadata": {
        "id": "MpjmrXcb0cvy"
      }
    },
    {
      "cell_type": "code",
      "source": [
        "list1=[1,2,3,4,5] #List\n",
        "print(list1)\n",
        "print(type(list1))\n",
        "np_array=np.array([1,2,3,4,5])\n",
        "print(np_array)\n",
        "print(type(np_array))# nd-n-dimensional\n",
        "print(np_array.shape)#no of rows and no of columns"
      ],
      "metadata": {
        "colab": {
          "base_uri": "https://localhost:8080/"
        },
        "id": "BE5Rw5hZ0RvM",
        "outputId": "e715f344-c280-4114-f04e-b760beabda69"
      },
      "execution_count": null,
      "outputs": [
        {
          "output_type": "stream",
          "name": "stdout",
          "text": [
            "[1, 2, 3, 4, 5]\n",
            "<class 'list'>\n",
            "[1 2 3 4 5]\n",
            "<class 'numpy.ndarray'>\n",
            "(5,)\n"
          ]
        }
      ]
    },
    {
      "cell_type": "markdown",
      "source": [
        "Array creation"
      ],
      "metadata": {
        "id": "T8VjG9Ap1TC-"
      }
    },
    {
      "cell_type": "code",
      "source": [
        "#2 Dimensional\n",
        "b=np.array([(1,2,3,4),(5,6,7,8)])\n",
        "print(b)\n",
        "print(b.shape)\n",
        "#Float\n",
        "c=np.array([(1,2,3),(5,6,7)],dtype=float)\n",
        "print(c)\n",
        "\n"
      ],
      "metadata": {
        "colab": {
          "base_uri": "https://localhost:8080/"
        },
        "id": "r8NS1pmY1Qp-",
        "outputId": "a106e51e-2c2b-41de-fad1-9b7e4e1f64a1"
      },
      "execution_count": null,
      "outputs": [
        {
          "output_type": "stream",
          "name": "stdout",
          "text": [
            "[[1 2 3 4]\n",
            " [5 6 7 8]]\n",
            "(2, 4)\n",
            "[[1. 2. 3.]\n",
            " [5. 6. 7.]]\n"
          ]
        }
      ]
    },
    {
      "cell_type": "markdown",
      "source": [
        "Initial Placeholders in Numpy arrays"
      ],
      "metadata": {
        "id": "8TpcBNY3-5rN"
      }
    },
    {
      "cell_type": "code",
      "source": [
        "#Initial values present in numpy arrays\n",
        "x=np.zeros((4,5))\n",
        "print(x)\n",
        "y=np.ones((3,3))\n",
        "print(y)\n",
        "#array of particular number\n",
        "z=np.full((5,4),5)\n",
        "print(z)\n",
        "#create an identity matrix\n",
        "d=np.eye(4)\n",
        "print(d)\n",
        "#Create numpy array with randon values\n",
        "e=np.random.random((3,4))\n",
        "print(e)#values are between 0 and 1. Generates different values at each time\n",
        "#Numpy array with random integers within specific range\n",
        "f=np.random.randint(1,60,(3,3))\n",
        "print(f)\n",
        "#Array of evenly spaced Values\n",
        "g=np.linspace(10,30,6)\n",
        "print(g)\n",
        "#Another Method for array of evenly spaced values\n",
        "h=np.arange(10,30,5)# here 5 is step size and not number of values\n",
        "print(h)\n"
      ],
      "metadata": {
        "colab": {
          "base_uri": "https://localhost:8080/"
        },
        "id": "UeBbAdc0--ZF",
        "outputId": "e7471c3e-e192-44c2-dac9-ec75a2c61a08"
      },
      "execution_count": null,
      "outputs": [
        {
          "output_type": "stream",
          "name": "stdout",
          "text": [
            "[[0. 0. 0. 0. 0.]\n",
            " [0. 0. 0. 0. 0.]\n",
            " [0. 0. 0. 0. 0.]\n",
            " [0. 0. 0. 0. 0.]]\n",
            "[[1. 1. 1.]\n",
            " [1. 1. 1.]\n",
            " [1. 1. 1.]]\n",
            "[[5 5 5 5]\n",
            " [5 5 5 5]\n",
            " [5 5 5 5]\n",
            " [5 5 5 5]\n",
            " [5 5 5 5]]\n",
            "[[1. 0. 0. 0.]\n",
            " [0. 1. 0. 0.]\n",
            " [0. 0. 1. 0.]\n",
            " [0. 0. 0. 1.]]\n",
            "[[0.1482853  0.74539652 0.83211654 0.36014722]\n",
            " [0.85456622 0.94346704 0.02586409 0.20004662]\n",
            " [0.81866105 0.07033324 0.87215755 0.17964424]]\n",
            "[[ 9 31 20]\n",
            " [26 25 15]\n",
            " [ 6 35 44]]\n",
            "[10. 14. 18. 22. 26. 30.]\n",
            "[10 15 20 25]\n"
          ]
        }
      ]
    },
    {
      "cell_type": "markdown",
      "source": [
        "Convert list to numpy array"
      ],
      "metadata": {
        "id": "u4NOyi6uB6_Q"
      }
    },
    {
      "cell_type": "code",
      "source": [
        "list2=[10,20,30,40,50]\n",
        "print(list2)\n",
        "print(type(list2))\n",
        "np_array2=np.asarray(list2)\n",
        "print(np_array2)\n",
        "print(type(np_array2))"
      ],
      "metadata": {
        "colab": {
          "base_uri": "https://localhost:8080/"
        },
        "id": "l5jc7RIhB_b5",
        "outputId": "51de9c76-5baa-4135-83ba-b53676fea163"
      },
      "execution_count": null,
      "outputs": [
        {
          "output_type": "stream",
          "name": "stdout",
          "text": [
            "[10, 20, 30, 40, 50]\n",
            "<class 'list'>\n",
            "[10 20 30 40 50]\n",
            "<class 'numpy.ndarray'>\n"
          ]
        }
      ]
    },
    {
      "cell_type": "markdown",
      "source": [
        "Same code for changing tuple to numpy array"
      ],
      "metadata": {
        "id": "KpvdMW0NCkJg"
      }
    },
    {
      "cell_type": "markdown",
      "source": [
        "Analysing Numpy Array"
      ],
      "metadata": {
        "id": "F8OFUkYJCsxv"
      }
    },
    {
      "cell_type": "code",
      "source": [
        "n=np.random.randint(10,90,(5,5))\n",
        "print(n)"
      ],
      "metadata": {
        "colab": {
          "base_uri": "https://localhost:8080/"
        },
        "id": "uyCIhgcXCq2J",
        "outputId": "301625a2-cc6d-4d24-ccc8-6d003f97308b"
      },
      "execution_count": null,
      "outputs": [
        {
          "output_type": "stream",
          "name": "stdout",
          "text": [
            "[[64 47 40 34 24]\n",
            " [12 40 58 33 41]\n",
            " [80 29 10 80 41]\n",
            " [22 17 61 20 78]\n",
            " [37 14 17 11 10]]\n"
          ]
        }
      ]
    },
    {
      "cell_type": "code",
      "source": [
        "#Array Dimension\n",
        "print(n.shape)\n",
        "#Number of Dimensions\n",
        "print(n.ndim)\n",
        "#Number of elements\n",
        "print(n.size)\n",
        "#Checking the datatype\n",
        "print(n.dtype)"
      ],
      "metadata": {
        "colab": {
          "base_uri": "https://localhost:8080/"
        },
        "id": "VW3x8WWSC_QB",
        "outputId": "776ee83d-f840-4413-d97f-acc63c8d5b42"
      },
      "execution_count": null,
      "outputs": [
        {
          "output_type": "stream",
          "name": "stdout",
          "text": [
            "(5, 5)\n",
            "2\n",
            "25\n",
            "int64\n"
          ]
        }
      ]
    },
    {
      "cell_type": "markdown",
      "source": [
        "Mathematical Operations on an Numpy array"
      ],
      "metadata": {
        "id": "PSFajIwKD8xA"
      }
    },
    {
      "cell_type": "code",
      "source": [
        "list1=[1,2,3,4,5]\n",
        "list2=[6,7,8,9,10]\n",
        "print(list1+list2) #Concatenate or join two lists"
      ],
      "metadata": {
        "colab": {
          "base_uri": "https://localhost:8080/"
        },
        "id": "uIMpk3KhD72O",
        "outputId": "4e28e37b-c710-416c-cf57-a3e8dd2ad5b4"
      },
      "execution_count": null,
      "outputs": [
        {
          "output_type": "stream",
          "name": "stdout",
          "text": [
            "[1, 2, 3, 4, 5, 6, 7, 8, 9, 10]\n"
          ]
        }
      ]
    },
    {
      "cell_type": "code",
      "source": [
        "np_a=np.random.randint(0,10,(3,3))\n",
        "np_b=np.random.randint(10,20,(3,3))\n",
        "print(np_a)\n",
        "print(np_b)\n",
        "print(np_a + np_b)\n",
        "print(np_a - np_b)\n",
        "print(np_a * np_b)\n",
        "print(np_a / np_b)"
      ],
      "metadata": {
        "colab": {
          "base_uri": "https://localhost:8080/"
        },
        "id": "cDYYOAgdEcTe",
        "outputId": "756a3976-415d-462e-e9a3-e4cc35f37fc6"
      },
      "execution_count": null,
      "outputs": [
        {
          "output_type": "stream",
          "name": "stdout",
          "text": [
            "[[9 6 7]\n",
            " [2 7 7]\n",
            " [8 8 3]]\n",
            "[[10 10 18]\n",
            " [19 10 19]\n",
            " [16 12 10]]\n",
            "[[19 16 25]\n",
            " [21 17 26]\n",
            " [24 20 13]]\n",
            "[[ -1  -4 -11]\n",
            " [-17  -3 -12]\n",
            " [ -8  -4  -7]]\n",
            "[[ 90  60 126]\n",
            " [ 38  70 133]\n",
            " [128  96  30]]\n",
            "[[0.9        0.6        0.38888889]\n",
            " [0.10526316 0.7        0.36842105]\n",
            " [0.5        0.66666667 0.3       ]]\n"
          ]
        }
      ]
    },
    {
      "cell_type": "code",
      "source": [
        "#Other method\n",
        "np1=np.random.randint(0,10,(3,3))\n",
        "np2=np.random.randint(10,20,(3,3))\n",
        "print(np1)\n",
        "print(np2)\n",
        "print(np.add(np1,np2))\n",
        "print(np.subtract(np1,np2))\n",
        "print(np.multiply(np1,np2))\n",
        "print(np.divide(np1,np2))\n"
      ],
      "metadata": {
        "colab": {
          "base_uri": "https://localhost:8080/"
        },
        "id": "olmmNg99FOkp",
        "outputId": "5cf5c85f-ea83-46b5-c9c5-fdd44afa0947"
      },
      "execution_count": null,
      "outputs": [
        {
          "output_type": "stream",
          "name": "stdout",
          "text": [
            "[[5 3 7]\n",
            " [7 0 0]\n",
            " [1 1 2]]\n",
            "[[13 17 10]\n",
            " [19 17 18]\n",
            " [12 14 11]]\n",
            "[[18 20 17]\n",
            " [26 17 18]\n",
            " [13 15 13]]\n",
            "[[ -8 -14  -3]\n",
            " [-12 -17 -18]\n",
            " [-11 -13  -9]]\n",
            "[[ 65  51  70]\n",
            " [133   0   0]\n",
            " [ 12  14  22]]\n",
            "[[0.38461538 0.17647059 0.7       ]\n",
            " [0.36842105 0.         0.        ]\n",
            " [0.08333333 0.07142857 0.18181818]]\n"
          ]
        }
      ]
    },
    {
      "cell_type": "markdown",
      "source": [
        "Array Manipulation"
      ],
      "metadata": {
        "id": "gg8K3js7FyO2"
      }
    },
    {
      "cell_type": "code",
      "source": [
        "array=np.random.randint(0,10,(2,3))\n",
        "print(array)\n",
        "print(array.shape)\n",
        "#Transpose\n",
        "trans=np.transpose(array)\n",
        "print(trans)\n",
        "print(trans.shape)\n",
        "#Another method\n",
        "trans2=array.T\n",
        "print(trans2)\n",
        "print(trans2.shape)"
      ],
      "metadata": {
        "colab": {
          "base_uri": "https://localhost:8080/"
        },
        "id": "scO62ydaF0lE",
        "outputId": "5d24dc9d-90fe-4fa4-dd88-24fca53925c7"
      },
      "execution_count": null,
      "outputs": [
        {
          "output_type": "stream",
          "name": "stdout",
          "text": [
            "[[3 6 3]\n",
            " [0 3 0]]\n",
            "(2, 3)\n",
            "[[3 0]\n",
            " [6 3]\n",
            " [3 0]]\n",
            "(3, 2)\n",
            "[[3 0]\n",
            " [6 3]\n",
            " [3 0]]\n",
            "(3, 2)\n"
          ]
        }
      ]
    },
    {
      "cell_type": "code",
      "source": [
        "#Reshaping Numpy Array\n",
        "ab=np.random.randint(0,10,(2,3))\n",
        "print(ab)\n",
        "print(ab.shape)\n",
        "cd=np.reshape(ab,(3,2))\n",
        "print(cd)\n",
        "print(cd.shape)"
      ],
      "metadata": {
        "colab": {
          "base_uri": "https://localhost:8080/"
        },
        "id": "vNfJt1QhGYIb",
        "outputId": "a4dd6247-c7e7-4ac9-e09d-01d9c514df87"
      },
      "execution_count": null,
      "outputs": [
        {
          "output_type": "stream",
          "name": "stdout",
          "text": [
            "[[3 8 2]\n",
            " [2 1 2]]\n",
            "(2, 3)\n",
            "[[3 8]\n",
            " [2 2]\n",
            " [1 2]]\n",
            "(3, 2)\n"
          ]
        }
      ]
    },
    {
      "cell_type": "markdown",
      "source": [
        "Other Basic Functions"
      ],
      "metadata": {
        "id": "4Olr1OTO1uJS"
      }
    },
    {
      "cell_type": "code",
      "source": [
        "w=np.arange(16).reshape(4,4)\n",
        "print(w)\n",
        "#Add Reduce\n",
        "print(np.add.reduce(w,1))\n",
        "print(np.add.reduce(w,(0,1)))\n",
        "#Multiply Reduce\n",
        "print(np.multiply.reduce(w,1))"
      ],
      "metadata": {
        "colab": {
          "base_uri": "https://localhost:8080/"
        },
        "id": "KuNForlX1sRu",
        "outputId": "7cb864bc-fdba-48b2-ada4-37ebfa9dd597"
      },
      "execution_count": null,
      "outputs": [
        {
          "output_type": "stream",
          "name": "stdout",
          "text": [
            "[[ 0  1  2  3]\n",
            " [ 4  5  6  7]\n",
            " [ 8  9 10 11]\n",
            " [12 13 14 15]]\n",
            "[ 6 22 38 54]\n",
            "120\n",
            "[    0   840  7920 32760]\n"
          ]
        }
      ]
    },
    {
      "cell_type": "markdown",
      "source": [
        "Statistics"
      ],
      "metadata": {
        "id": "TEAKVK5LFkSp"
      }
    },
    {
      "cell_type": "code",
      "source": [
        "#Sum\n",
        "print(w.sum(axis=0))\n",
        "#Minimum\n",
        "print(w.min(axis=0))\n",
        "#Maximun\n",
        "print(w.max(axis=0))\n",
        "#Mean\n",
        "print(w.mean(axis=0))\n",
        "#Variance\n",
        "print(w.var(axis=1))\n",
        "#Standard deviation\n",
        "print(w.std(axis=1))\n",
        "#median\n",
        "print(np.median(w,axis=0))\n",
        "#Average\n",
        "print(np.average(w,axis=1))\n",
        "#Sorting\n",
        "print(w.sort(axis=0))\n",
        "#2dHistogram\n",
        "print(np.histogram2d(w.flatten(),w.flatten()))\n"
      ],
      "metadata": {
        "colab": {
          "base_uri": "https://localhost:8080/"
        },
        "id": "Z-tJAvkcAYy0",
        "outputId": "3e7fd07b-730e-43f6-efa6-5a9157b83389"
      },
      "execution_count": null,
      "outputs": [
        {
          "output_type": "stream",
          "name": "stdout",
          "text": [
            "[24 28 32 36]\n",
            "[0 1 2 3]\n",
            "[12 13 14 15]\n",
            "[6. 7. 8. 9.]\n",
            "[1.25 1.25 1.25 1.25]\n",
            "[1.11803399 1.11803399 1.11803399 1.11803399]\n",
            "[6. 7. 8. 9.]\n",
            "[ 1.5  5.5  9.5 13.5]\n",
            "None\n",
            "(array([[2., 0., 0., 0., 0., 0., 0., 0., 0., 0.],\n",
            "       [0., 1., 0., 0., 0., 0., 0., 0., 0., 0.],\n",
            "       [0., 0., 2., 0., 0., 0., 0., 0., 0., 0.],\n",
            "       [0., 0., 0., 1., 0., 0., 0., 0., 0., 0.],\n",
            "       [0., 0., 0., 0., 2., 0., 0., 0., 0., 0.],\n",
            "       [0., 0., 0., 0., 0., 1., 0., 0., 0., 0.],\n",
            "       [0., 0., 0., 0., 0., 0., 2., 0., 0., 0.],\n",
            "       [0., 0., 0., 0., 0., 0., 0., 1., 0., 0.],\n",
            "       [0., 0., 0., 0., 0., 0., 0., 0., 2., 0.],\n",
            "       [0., 0., 0., 0., 0., 0., 0., 0., 0., 2.]]), array([ 0. ,  1.5,  3. ,  4.5,  6. ,  7.5,  9. , 10.5, 12. , 13.5, 15. ]), array([ 0. ,  1.5,  3. ,  4.5,  6. ,  7.5,  9. , 10.5, 12. , 13.5, 15. ]))\n"
          ]
        }
      ]
    },
    {
      "cell_type": "markdown",
      "source": [
        "Other functions are np.ptp(Max-min), percentile, nanpercentile, quantile, nanquantile,nanmedian,nanmean,nanvar,nanstd,corrcoef,cov,correlate,histogram,histogramdd,bincount,histogram_bin_edges,digitalize etc"
      ],
      "metadata": {
        "id": "aY4sOKEhFt8c"
      }
    },
    {
      "cell_type": "markdown",
      "source": [
        "***POLYNOMIALS***"
      ],
      "metadata": {
        "id": "qXXXnNyXHnGx"
      }
    },
    {
      "cell_type": "code",
      "source": [
        "from numpy.polynomial import Polynomial as poly1d\n",
        "#Polynomial with coefficients\n",
        "p=np.poly1d([1,2,3])\n",
        "print(p)\n",
        "#Polynomial with roots\n",
        "r=np.poly([-1,1])\n",
        "q=np.poly1d(r)\n",
        "print(q)\n",
        "#Polynomial with degree\n",
        "x=np.arange(10)\n",
        "y=np.arange(10)+np.arange(10)\n",
        "z=np.poly1d(np.polyfit(x,y,3))\n",
        "print(z)\n"
      ],
      "metadata": {
        "colab": {
          "base_uri": "https://localhost:8080/"
        },
        "id": "-d3R582gHlu1",
        "outputId": "05beed16-4bd2-4762-b94c-0a41a8443d3a"
      },
      "execution_count": null,
      "outputs": [
        {
          "output_type": "stream",
          "name": "stdout",
          "text": [
            "   2\n",
            "1 x + 2 x + 3\n",
            "   2\n",
            "1 x - 1\n",
            "           3             2\n",
            "3.457e-17 x - 6.312e-16 x + 2 x - 5.336e-15\n"
          ]
        }
      ]
    },
    {
      "cell_type": "markdown",
      "source": [
        "Other functions are polyadd,polymul,polysub,polydiv,polyder,polyint"
      ],
      "metadata": {
        "id": "3UtDwfuMKdII"
      }
    }
  ]
}